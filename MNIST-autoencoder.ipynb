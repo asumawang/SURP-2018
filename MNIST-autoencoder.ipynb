{
 "cells": [
  {
   "cell_type": "code",
   "execution_count": 1,
   "metadata": {},
   "outputs": [],
   "source": [
    "import tensorflow as tf\n",
    "import numpy as np\n",
    "import matplotlib.pyplot as plt"
   ]
  },
  {
   "cell_type": "code",
   "execution_count": 3,
   "metadata": {},
   "outputs": [
    {
     "name": "stdout",
     "output_type": "stream",
     "text": [
      "Successfully downloaded train-images-idx3-ubyte.gz 9912422 bytes.\n",
      "Extracting /tmp/data/train-images-idx3-ubyte.gz\n",
      "Successfully downloaded train-labels-idx1-ubyte.gz 28881 bytes.\n",
      "Extracting /tmp/data/train-labels-idx1-ubyte.gz\n",
      "Successfully downloaded t10k-images-idx3-ubyte.gz 1648877 bytes.\n",
      "Extracting /tmp/data/t10k-images-idx3-ubyte.gz\n",
      "Successfully downloaded t10k-labels-idx1-ubyte.gz 4542 bytes.\n",
      "Extracting /tmp/data/t10k-labels-idx1-ubyte.gz\n"
     ]
    }
   ],
   "source": [
    "from tensorflow.examples.tutorials.mnist import input_data\n",
    "mnist = input_data.read_data_sets(\"/tmp/data/\", one_hot=True)"
   ]
  },
  {
   "cell_type": "code",
   "execution_count": 14,
   "metadata": {},
   "outputs": [],
   "source": [
    "rate = 0.01\n",
    "steps = 10000\n",
    "batch_size = 256\n",
    "\n",
    "architecture = (28*28, 256, 128, 2, 128, 256, 28*28)\n",
    "number_layers = len(architecture)\n",
    "input_size = architecture[0]"
   ]
  },
  {
   "cell_type": "code",
   "execution_count": 15,
   "metadata": {},
   "outputs": [],
   "source": [
    "X = tf.placeholder(tf.float32, shape=[None, input_size])\n",
    "\n",
    "weights = []\n",
    "biases = []\n",
    "\n",
    "for input_size, output_size in zip(architecture, architecture[1:]):\n",
    "    weights.append(tf.Variable(tf.random_normal([input_size, output_size])))\n",
    "    biases.append(tf.Variable(tf.random_normal([output_size])))\n",
    "\n",
    "def autoencode(x):\n",
    "    encoding = x\n",
    "    for W, b in zip(weights, biases):\n",
    "        encoding = tf.nn.sigmoid(tf.add(tf.matmul(encoding, W), b))\n",
    "    \n",
    "    return encoding"
   ]
  },
  {
   "cell_type": "code",
   "execution_count": 16,
   "metadata": {},
   "outputs": [],
   "source": [
    "loss = tf.reduce_mean(tf.pow(X - autoencode(X), 2))\n",
    "optimizer = tf.train.RMSPropOptimizer(rate).minimize(loss)"
   ]
  },
  {
   "cell_type": "code",
   "execution_count": 20,
   "metadata": {},
   "outputs": [
    {
     "name": "stdout",
     "output_type": "stream",
     "text": [
      "Loss: 0.4542146921157837\n",
      "Loss: 0.19566309452056885\n",
      "Loss: 0.18066604435443878\n",
      "Loss: 0.16949307918548584\n",
      "Loss: 0.16512706875801086\n",
      "Loss: 0.1642482578754425\n",
      "Loss: 0.1598932296037674\n",
      "Loss: 0.16096770763397217\n",
      "Loss: 0.15231773257255554\n",
      "Loss: 0.15521302819252014\n",
      "Loss: 0.15037420392036438\n",
      "Loss: 0.14610178768634796\n",
      "Loss: 0.14502577483654022\n",
      "Loss: 0.14276085793972015\n",
      "Loss: 0.13953350484371185\n",
      "Loss: 0.13884805142879486\n",
      "Loss: 0.13386502861976624\n",
      "Loss: 0.13272221386432648\n",
      "Loss: 0.13788704574108124\n",
      "Loss: 0.13481678068637848\n"
     ]
    }
   ],
   "source": [
    "with tf.Session() as sess:\n",
    "\n",
    "    sess.run(tf.global_variables_initializer())\n",
    "    \n",
    "    for i in range(steps):\n",
    "        batch_x, _ = mnist.train.next_batch(batch_size)\n",
    "        _, l = sess.run([optimizer, loss], feed_dict={X: batch_x})\n",
    "        if i % 500 == 0:\n",
    "            print(f'Loss: {l}')"
   ]
  },
  {
   "cell_type": "code",
   "execution_count": null,
   "metadata": {},
   "outputs": [],
   "source": []
  }
 ],
 "metadata": {
  "kernelspec": {
   "display_name": "Python 3",
   "language": "python",
   "name": "python3"
  },
  "language_info": {
   "codemirror_mode": {
    "name": "ipython",
    "version": 3
   },
   "file_extension": ".py",
   "mimetype": "text/x-python",
   "name": "python",
   "nbconvert_exporter": "python",
   "pygments_lexer": "ipython3",
   "version": "3.6.5"
  }
 },
 "nbformat": 4,
 "nbformat_minor": 2
}
